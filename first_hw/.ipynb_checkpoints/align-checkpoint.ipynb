{
 "cells": [
  {
   "cell_type": "code",
   "execution_count": 213,
   "metadata": {
    "ExecuteTime": {
     "end_time": "2019-11-08T12:14:42.814339Z",
     "start_time": "2019-11-08T12:14:42.810758Z"
    }
   },
   "outputs": [],
   "source": [
    "def fasta_to_list(filename='BJ01.fasta'):\n",
    "    with open(filename) as f:\n",
    "        a = f.readlines()\n",
    "    return \"\".join([i[:-1] for i in a[1:]])"
   ]
  },
  {
   "cell_type": "code",
   "execution_count": 303,
   "metadata": {
    "ExecuteTime": {
     "end_time": "2019-11-08T15:24:35.065274Z",
     "start_time": "2019-11-08T15:24:35.061568Z"
    },
    "scrolled": true
   },
   "outputs": [
    {
     "data": {
      "text/plain": [
       "(29725, 29736)"
      ]
     },
     "execution_count": 303,
     "metadata": {},
     "output_type": "execute_result"
    }
   ],
   "source": [
    "penalty_table.shape"
   ]
  },
  {
   "cell_type": "code",
   "execution_count": 181,
   "metadata": {
    "ExecuteTime": {
     "end_time": "2019-11-08T11:58:37.903066Z",
     "start_time": "2019-11-08T11:58:37.891035Z"
    }
   },
   "outputs": [],
   "source": [
    "def weighted_edit_distance(s1, s2, penalty = dict({'M':0,'R':1,'G':2})):\n",
    "    '''\n",
    "    calculate weighted edit distance of two list/str presented here,\n",
    "    penalty function G=2 gap; R=1 mismatch; M=0 match\n",
    "    return: \n",
    "        p penalty matrix: nrows == len(s1)\n",
    "                          ncloumns == len(s2)\n",
    "        D weighted edit distance: nrows == len(s1)+1\n",
    "                                  ncloumns == len(s2)+1\n",
    "        tranceback: the same shape of penalty matrix, each cell has its values which \n",
    "                    represent the location of distance where it derive\n",
    "        penalty_table: the same shape of penalty matrix, each cell has its values which\n",
    "                       represent the penalty of last distance after going forward\n",
    "        D[-1,-1]: distance sum               \n",
    "    '''\n",
    "    import numpy as np\n",
    "    p = np.ones((len(s1),len(s2)))*penalty['M']\n",
    "    for i in range(len(s1)):\n",
    "        for j in range(len(s2)):\n",
    "            if s1[i] != s2[j]:\n",
    "                p[i,j] = penalty['R']\n",
    "    D = np.zeros((len(s1)+1,len(s2)+1))\n",
    "    tranceback = np.zeros((len(s1),len(s2),2))\n",
    "    penalty_table = np.zeros((len(s1),len(s2)))\n",
    "    for i in range(len(s1)+1):\n",
    "        D[i,0] = i*penalty['G']\n",
    "    for j in range(len(s2)+1):\n",
    "        D[0,j] = j*penalty['G']\n",
    "    for i in range(len(s1)):\n",
    "        for j in range(len(s2)):\n",
    "            source = D[i+1,j]+penalty['G'],D[i,j]+p[i,j],D[i,j+1]+penalty['G']\n",
    "            \n",
    "            D[i+1,j+1] = min(source)\n",
    "            if source.index(D[i+1,j+1]) == 0:\n",
    "                tranceback[i,j] = [i+1,j]\n",
    "                penalty_table[i,j] = penalty['G']\n",
    "            elif source.index(D[i+1,j+1]) == 1:\n",
    "                tranceback[i,j] = [i,j]\n",
    "                penalty_table[i,j] = p[i,j]\n",
    "            else:\n",
    "                tranceback[i,j] = [i,j+1]\n",
    "                penalty_table[i,j] = penalty['G']\n",
    "    return p,D,tranceback,penalty_table,D[-1,-1]"
   ]
  },
  {
   "cell_type": "code",
   "execution_count": 197,
   "metadata": {
    "ExecuteTime": {
     "end_time": "2019-11-08T12:03:12.559553Z",
     "start_time": "2019-11-08T12:03:12.543290Z"
    }
   },
   "outputs": [],
   "source": [
    "def visualization(s1=s1,s2=s2,tranceback=tranceback,penalty_table=penalty_table,penalty = dict({'M':0,'R':1,'G':2})):\n",
    "    '''\n",
    "    find the traceback, denoted as route from the right-down corner of the distance matrix \n",
    "    to left-up corner. \n",
    "    return:\n",
    "        s1_tran print(s1) beautifully '|' represent match\n",
    "                                      '*' represent mismatch\n",
    "                                      ' ' represent gap\n",
    "        s2_tran \n",
    "        s2_tran\n",
    "        \n",
    "    '''\n",
    "    import numpy as np\n",
    "    #### the symbol between two fasta file\n",
    "    route = [np.array([len(s1),len(s2)])]\n",
    "    route.append(tranceback[len(s1)-1,len(s2)-1])\n",
    "    lasti,lastj = tranceback[-1,-1]\n",
    "    for i in range(len(s1))[::-1]:\n",
    "        for j in range(len(s2))[::-1]:\n",
    "            if lasti != i+1 or lastj != j+1:\n",
    "                continue;\n",
    "            lasti,lastj = tranceback[i,j]\n",
    "            route.append(tranceback[i,j])\n",
    "    transcript = [penalty_table[int(i[0])-1,int(i[1])-1] for i in route[:-1]][::-1]\n",
    "    \n",
    "    #### s1,s2 print and annotation\n",
    "    s1_tran, s2_tran = [], []\n",
    "    s1_edit, s2_edit = [], []\n",
    "    for i in range(len(route)-1):\n",
    "        s1_char, s2_char = route[i]\n",
    "        if transcript[::-1][i] == penalty['G']: # when gap penalty\n",
    "            if route[i][0] == route[i+1][0]:\n",
    "                s1_tran.append('-')\n",
    "                s1_edit.append('D')  # when s1 deletion\n",
    "            else:\n",
    "                s1_tran.append(s1[int(s1_char-1)])\n",
    "                s1_edit.append('I')  # when s1 insertion\n",
    "            if route[i][1] == route[i+1][1]:\n",
    "                s2_tran.append('-')\n",
    "                s2_edit.append('D')  # when s2 deletion\n",
    "            else:\n",
    "                s2_tran.append(s2[int(s2_char-1)])\n",
    "                s2_edit.append('I')  # when s2 insertion\n",
    "        else:\n",
    "            s1_tran.append(s1[int(s1_char-1)])\n",
    "            s2_tran.append(s2[int(s2_char-1)])\n",
    "            if transcript[::-1][i] == penalty['R']: # when replacement\n",
    "                s1_edit.append('R')\n",
    "                s2_edit.append('R')\n",
    "            elif transcript[::-1][i] == penalty['M']:\n",
    "                s1_edit.append('M')\n",
    "                s2_edit.append('M')        \n",
    "    s1_tran,s2_tran,s1_edit,s2_edit = s1_tran[::-1],s2_tran[::-1],s1_edit[::-1],s2_edit[::-1]\n",
    "    transcript_sym = transcript.copy()\n",
    "    dict_num2sym = {0:'|',1:'*',2:' '}\n",
    "    for i in range(len(transcript)):\n",
    "        transcript_sym[i] = dict_num2sym[transcript[i]]\n",
    "    return s1_tran,s2_tran,s1_edit,s2_edit,transcript,transcript_sym"
   ]
  },
  {
   "cell_type": "code",
   "execution_count": 214,
   "metadata": {
    "ExecuteTime": {
     "end_time": "2019-11-08T12:59:32.802762Z",
     "start_time": "2019-11-08T12:14:45.739837Z"
    }
   },
   "outputs": [],
   "source": [
    "p,D,tranceback,penalty_table,d = \\\n",
    "    weighted_edit_distance(fasta_to_list(filename='BJ01.fasta'), \n",
    "                            fasta_to_list(filename='TOR2.fasta'))\n",
    "s1_tran,s2_tran,s1_edit,s2_edit,transcript,transcript_sym = visualization()"
   ]
  },
  {
   "cell_type": "code",
   "execution_count": 228,
   "metadata": {
    "ExecuteTime": {
     "end_time": "2019-11-08T13:18:33.339167Z",
     "start_time": "2019-11-08T13:14:01.329016Z"
    }
   },
   "outputs": [],
   "source": [
    "s1_tran,s2_tran,s1_edit,s2_edit,transcript,transcript_sym = \\\n",
    "visualization(s1=fasta_to_list(filename='BJ01.fasta'),\n",
    "              s2=fasta_to_list(filename='TOR2.fasta'),\n",
    "              tranceback=tranceback,\n",
    "              penalty_table=penalty_table,\n",
    "              penalty = dict({'M':0,'R':1,'G':2}))"
   ]
  },
  {
   "cell_type": "code",
   "execution_count": 280,
   "metadata": {
    "ExecuteTime": {
     "end_time": "2019-11-08T14:31:18.166185Z",
     "start_time": "2019-11-08T14:31:17.942146Z"
    }
   },
   "outputs": [],
   "source": [
    "with open('alignment.txt','w+') as f:\n",
    "    length = len(s1_tran)\n",
    "    lineword = 56\n",
    "    n = int(length)//int(lineword)\n",
    "    m = length-n*lineword\n",
    "    str = \"#################################\\n\" \\\n",
    "              \"sequence_id\\tbase_amount\\n\" \\\n",
    "              \"BJ01.fasta\\t%s\\n\" \\\n",
    "              \"TOR2.fasta\\t%s\\n\" \\\n",
    "      \"#################################\\n\" \\\n",
    "      \"weighted edit distance\\t%s\\n\" \\\n",
    "      \"base matched\\t%s\\n\" \\\n",
    "      \"base replacement\\t%s\\n\" \\\n",
    "      \"base insertion/deletion\\t%s\\n\" \\\n",
    "      \"#################################\\n\"%(len(fasta_to_list(filename='BJ01.fasta')),\n",
    "                                      len(fasta_to_list(filename='TOR2.fasta')),\n",
    "                                      d,\n",
    "                                      sum([i==dict({'M':0,'R':1,'G':2})['M'] for i in transcript]),\n",
    "                                      sum([i==dict({'M':0,'R':1,'G':2})['R'] for i in transcript]),\n",
    "                                      sum([i==dict({'M':0,'R':1,'G':2})['G'] for i in transcript]))\n",
    "    f.write(str)\n",
    "    for i in range(n):\n",
    "        if i==0:\n",
    "            f.write('BJ01.fasta:'+\"\".join(s1_tran[i*lineword:(i+1)*lineword])+'\\n')\n",
    "            f.write('    symbol:'+\"\".join(transcript_sym[i*lineword:(i+1)*lineword])+'\\n')\n",
    "            f.write('TOR2.fasta:'+\"\".join(s2_tran[i*lineword:(i+1)*lineword])+'\\n')\n",
    "        else:\n",
    "            f.write(\"\".join(s1_tran[i*lineword:(i+1)*lineword])+'\\n')\n",
    "            f.write(\"\".join(transcript_sym[i*lineword:(i+1)*lineword])+'\\n')\n",
    "            f.write(\"\".join(s2_tran[i*lineword:(i+1)*lineword])+'\\n')\n",
    "    f.write(\"\".join(s1_tran[(i+1)*lineword:length])+'\\n')\n",
    "    f.write(\"\".join(transcript_sym[(i+1)*lineword:length])+'\\n')\n",
    "    f.write(\"\".join(s2_tran[(i+1)*lineword:length])+'\\n')"
   ]
  },
  {
   "cell_type": "code",
   "execution_count": 285,
   "metadata": {
    "ExecuteTime": {
     "end_time": "2019-11-08T14:43:56.592886Z",
     "start_time": "2019-11-08T14:43:56.582811Z"
    }
   },
   "outputs": [],
   "source": [
    "with open('transcript.txt','w+') as f:\n",
    "    length = len(s1_tran)\n",
    "    lineword = 56\n",
    "    n = int(length)//int(lineword)\n",
    "    m = length-n*lineword\n",
    "    str = \"###########################################\\n\" \\\n",
    "          \"transformation of BJ01.fasta to TOR2.fasta\\n\" \\\n",
    "          \"###########################################\\n\" \n",
    "    f.write(str)\n",
    "    for i in range(n):\n",
    "        f.write(\"\".join(s2_edit[i*lineword:(i+1)*lineword])+'\\n')\n",
    "    f.write(\"\".join(s2_edit[(i+1)*lineword:length])+'\\n')"
   ]
  },
  {
   "cell_type": "code",
   "execution_count": 289,
   "metadata": {
    "ExecuteTime": {
     "end_time": "2019-11-08T14:50:11.931514Z",
     "start_time": "2019-11-08T14:50:11.926881Z"
    }
   },
   "outputs": [
    {
     "name": "stdout",
     "output_type": "stream",
     "text": [
      "16.0\n",
      "16.0\n",
      "20.0\n"
     ]
    }
   ],
   "source": [
    "print(D[100,100])\n",
    "print(D[1000,1000])\n",
    "print(D[10000,10000])"
   ]
  },
  {
   "cell_type": "code",
   "execution_count": 298,
   "metadata": {
    "ExecuteTime": {
     "end_time": "2019-11-08T15:08:03.903429Z",
     "start_time": "2019-11-08T15:04:45.971784Z"
    }
   },
   "outputs": [],
   "source": [
    "np.savez('store.npz',p=p,D=D,tranceback=tranceback,penalty_table=penalty_table,d=d)"
   ]
  },
  {
   "cell_type": "code",
   "execution_count": 299,
   "metadata": {
    "ExecuteTime": {
     "end_time": "2019-11-08T15:09:16.397349Z",
     "start_time": "2019-11-08T15:09:16.347251Z"
    }
   },
   "outputs": [],
   "source": [
    "np.savez('visualization.npz',s1_tran=s1_tran,s2_tran=s2_tran,\n",
    "         s1_edit=s1_edit,s2_edit=s2_edit,transcript=transcript,transcript_sym=transcript_sym)"
   ]
  },
  {
   "cell_type": "code",
   "execution_count": null,
   "metadata": {},
   "outputs": [],
   "source": []
  }
 ],
 "metadata": {
  "kernelspec": {
   "display_name": "Python 3",
   "language": "python",
   "name": "python3"
  },
  "language_info": {
   "codemirror_mode": {
    "name": "ipython",
    "version": 3
   },
   "file_extension": ".py",
   "mimetype": "text/x-python",
   "name": "python",
   "nbconvert_exporter": "python",
   "pygments_lexer": "ipython3",
   "version": "3.7.3"
  },
  "toc": {
   "base_numbering": 1,
   "nav_menu": {},
   "number_sections": true,
   "sideBar": true,
   "skip_h1_title": false,
   "title_cell": "Table of Contents",
   "title_sidebar": "Contents",
   "toc_cell": false,
   "toc_position": {},
   "toc_section_display": true,
   "toc_window_display": false
  }
 },
 "nbformat": 4,
 "nbformat_minor": 2
}
