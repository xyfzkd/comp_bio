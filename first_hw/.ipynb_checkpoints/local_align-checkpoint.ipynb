{
 "cells": [
  {
   "cell_type": "code",
   "execution_count": null,
   "metadata": {},
   "outputs": [],
   "source": [
    "def local_align(x, y, score=ScoreParam(-7, 10, -5)): \n",
    "    \"\"\"Do a local alignment between x and y\"\"\"\n",
    "    # create a zero-filled matrix\n",
    "    A = make_matrix(len(x) + 1, len(y) + 1)\n",
    "    best = 0 \n",
    "    optloc = (0,0)\n",
    "    # fill in A in the right order\n",
    "    for i in xrange(1, len(y)):\n",
    "        for j in xrange(1, len(x)):\n",
    "            \n",
    "            # the local alignment recurrance rule:\n",
    "            A[i][j] = max(\n",
    "                A[i][j-1] + score.gap,\n",
    "                A[i-1][j] + score.gap,\n",
    "                A[i-1][j-1] + (score.match if x[i] == y[j] else score.mismatch),\n",
    "                0\n",
    "            )\n",
    "            # track the cell with the largest score\n",
    "            if A[i][j] >= best: \n",
    "                best = A[i][j] \n",
    "                optloc = (i,j)\n",
    "    # return the opt score and the best location\n",
    "    return best, optloc"
   ]
  },
  {
   "cell_type": "code",
   "execution_count": null,
   "metadata": {},
   "outputs": [],
   "source": [
    "def make_matrix(sizex, sizey):\n",
    "    \"\"\"Creates a sizex by sizey matrix filled with zeros.\"\"\" \n",
    "    return [[0]*sizey for i in xrange(sizex)]"
   ]
  },
  {
   "cell_type": "code",
   "execution_count": null,
   "metadata": {},
   "outputs": [],
   "source": [
    "class ScoreParam:\n",
    "    \"\"\"The parameters for an alignment scoring function\"\"\" \n",
    "    def __init__(self, gap, match, mismatch):\n",
    "        self.gap = gap \n",
    "        self.match = match \n",
    "        self.mismatch = mismatch"
   ]
  }
 ],
 "metadata": {
  "kernelspec": {
   "display_name": "Python 3",
   "language": "python",
   "name": "python3"
  },
  "language_info": {
   "codemirror_mode": {
    "name": "ipython",
    "version": 3
   },
   "file_extension": ".py",
   "mimetype": "text/x-python",
   "name": "python",
   "nbconvert_exporter": "python",
   "pygments_lexer": "ipython3",
   "version": "3.7.3"
  },
  "toc": {
   "base_numbering": 1,
   "nav_menu": {},
   "number_sections": true,
   "sideBar": true,
   "skip_h1_title": false,
   "title_cell": "Table of Contents",
   "title_sidebar": "Contents",
   "toc_cell": false,
   "toc_position": {},
   "toc_section_display": true,
   "toc_window_display": false
  }
 },
 "nbformat": 4,
 "nbformat_minor": 2
}
